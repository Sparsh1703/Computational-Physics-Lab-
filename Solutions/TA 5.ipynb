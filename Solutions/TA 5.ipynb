{
 "cells": [
  {
   "cell_type": "code",
   "execution_count": 1,
   "id": "6b2b408f",
   "metadata": {},
   "outputs": [],
   "source": [
    "import numpy as np\n",
    "import matplotlib.pyplot as plt"
   ]
  },
  {
   "cell_type": "markdown",
   "id": "265be826",
   "metadata": {},
   "source": [
    "## Question 1"
   ]
  },
  {
   "cell_type": "code",
   "execution_count": 2,
   "id": "cb8b2efb",
   "metadata": {},
   "outputs": [],
   "source": [
    "def rk2(g,xin,xfin,yin,zin,h):\n",
    "    x=[xin]\n",
    "    y=[yin]\n",
    "    yi = yin\n",
    "    xi = xin\n",
    "    zi = zin\n",
    "    \n",
    "    n = int((xfin-xin)/h)\n",
    "    \n",
    "    for i in range (1,n+1):\n",
    "      \n",
    "        l1 = h*g(xi,yi,zi)\n",
    "        k1 = h*zi\n",
    "        \n",
    "        l2 = h*g(xi+h/2,yi+k1/2,zi+l1/2)\n",
    "        k2 = h*(zi+l1/2)\n",
    "        \n",
    "        \n",
    "        yi = yi + k2\n",
    "        zi = zi + l2\n",
    "        xi = xi+h\n",
    "        \n",
    "        x.append(xi)\n",
    "        y.append(yi)\n",
    "        \n",
    "    x = np.array(x)\n",
    "    y= np.array(y)\n",
    "    \n",
    "    return yi,x,y"
   ]
  },
  {
   "cell_type": "code",
   "execution_count": 3,
   "id": "3309c5fa",
   "metadata": {},
   "outputs": [],
   "source": [
    "def shootingrk2(f,guess1,guess2,xin,xf,yin,yf):\n",
    "    y1 = rk2(f,xin,xf,yin,guess1,0.01)[0]\n",
    "    y2 = rk2(f,xin,xf,yin,guess2,0.01)[0]\n",
    "    \n",
    "    ydes = guess1 + (guess2-guess1)/(y2-y1)*(yf-y1) \n",
    "    \n",
    "    return ydes\n",
    "\n",
    "def shootingrk4(f,guess1,guess2,xin,xf,yin,yf):\n",
    "    y1 = rk4(f,xin,xf,yin,guess1,0.01)[0]\n",
    "    y2 = rk4(f,xin,xf,yin,guess2,0.01)[0]\n",
    "    \n",
    "    ydes = guess1 + (guess2-guess1)/(y2-y1)*(yf-y1) \n",
    "    \n",
    "    return ydes"
   ]
  },
  {
   "cell_type": "code",
   "execution_count": 4,
   "id": "3d6be60f",
   "metadata": {},
   "outputs": [
    {
     "data": {
      "text/plain": [
       "-3.0000003009718514"
      ]
     },
     "execution_count": 4,
     "metadata": {},
     "output_type": "execute_result"
    }
   ],
   "source": [
    "#Question 1\n",
    "\n",
    "#y(0)=0,y(pi/2)=-3\n",
    "function = lambda x,y,z: -y\n",
    "\n",
    "shootingrk2(function,-1,1,0,np.pi/2,0,-3)"
   ]
  },
  {
   "cell_type": "code",
   "execution_count": 5,
   "id": "afe4a8b5",
   "metadata": {},
   "outputs": [
    {
     "name": "stdout",
     "output_type": "stream",
     "text": [
      "-30.343038905985075\n"
     ]
    }
   ],
   "source": [
    "#Question 2\n",
    "\n",
    "function = lambda x,y,z: 8*x*(9-x) + 2*y\n",
    "\n",
    "\n",
    "#y(0)=0, y(9)=0\n",
    "req = shootingrk2(function,-1,1,0,9,0,0)\n",
    "\n",
    "print(req)"
   ]
  },
  {
   "cell_type": "code",
   "execution_count": 6,
   "id": "9e232f90",
   "metadata": {},
   "outputs": [
    {
     "name": "stdout",
     "output_type": "stream",
     "text": [
      "-0.4668292617471904\n"
     ]
    }
   ],
   "source": [
    "#Question 3\n",
    "\n",
    "function = lambda x,y,z: np.cos(x)-4*y\n",
    "\n",
    "#y(0)=0, y(pi/4)=0\n",
    "\n",
    "req = shootingrk2(function,-1,1,0,np.pi/4,0,0)\n",
    "print(req)\n",
    "yi,x,y = rk2(function,0,np.pi/4,0,req,0.01)"
   ]
  },
  {
   "cell_type": "code",
   "execution_count": 7,
   "id": "a4d5ed33",
   "metadata": {},
   "outputs": [],
   "source": [
    "#Question 4\n",
    "\n",
    "def rk4(g,xin,xfin,yin,zin,h):\n",
    "    x=[xin]\n",
    "    y=[yin]\n",
    "    yi = yin\n",
    "    xi = xin\n",
    "    zi = zin\n",
    "    \n",
    "    n = int((xfin-xin)/h)\n",
    "    \n",
    "    for i in range (1,n+1):\n",
    "      \n",
    "        l1 = h*g(xi,yi,zi)\n",
    "        k1 = h*zi\n",
    "        \n",
    "        l2 = h*g(xi+h/2,yi+k1/2,zi+l1/2)\n",
    "        k2 = h*(zi+l1/2)\n",
    "        \n",
    "        l3 = h*g(xi+h/2,yi+k2/2,zi+l2/2)\n",
    "        k3 = h*(zi+l2/2)\n",
    "        \n",
    "        l4 = h*g(xi+h,yi+k3,zi+l3)\n",
    "        k4 = h*(zi+l3)\n",
    "        \n",
    "        \n",
    "        yi = yi + 1/3*(k1/2+k2+k3+k4/2)\n",
    "        zi = zi + 1/3*(l1/2+l2+l3+l4/2)\n",
    "        \n",
    "        xi = xi+h\n",
    "        x.append(xi)\n",
    "        y.append(yi)\n",
    "        \n",
    "    return yi,x,y"
   ]
  },
  {
   "cell_type": "code",
   "execution_count": 8,
   "id": "f05d62a6",
   "metadata": {},
   "outputs": [],
   "source": [
    "function = lambda x,y,z: x*z**2-y**2\n",
    "\n",
    "yi,x,y=rk4(function,0,5,1,0,0.01)"
   ]
  },
  {
   "cell_type": "code",
   "execution_count": 11,
   "id": "d61945ad",
   "metadata": {},
   "outputs": [
    {
     "data": {
      "text/plain": [
       "-0.525323023791252"
      ]
     },
     "execution_count": 11,
     "metadata": {},
     "output_type": "execute_result"
    }
   ],
   "source": [
    "yi"
   ]
  },
  {
   "cell_type": "code",
   "execution_count": null,
   "id": "dac97ddc",
   "metadata": {},
   "outputs": [],
   "source": []
  }
 ],
 "metadata": {
  "kernelspec": {
   "display_name": "Python 3 (ipykernel)",
   "language": "python",
   "name": "python3"
  },
  "language_info": {
   "codemirror_mode": {
    "name": "ipython",
    "version": 3
   },
   "file_extension": ".py",
   "mimetype": "text/x-python",
   "name": "python",
   "nbconvert_exporter": "python",
   "pygments_lexer": "ipython3",
   "version": "3.9.7"
  }
 },
 "nbformat": 4,
 "nbformat_minor": 5
}
