{
 "cells": [
  {
   "cell_type": "code",
   "execution_count": 1,
   "id": "26264a63",
   "metadata": {},
   "outputs": [],
   "source": [
    "import numpy as np\n",
    "import matplotlib.pyplot as plt\n",
    "from mpl_toolkits.mplot3d import Axes3D"
   ]
  },
  {
   "cell_type": "markdown",
   "id": "0b9ee7f4",
   "metadata": {},
   "source": [
    "## Question 1"
   ]
  },
  {
   "cell_type": "code",
   "execution_count": 2,
   "id": "a9eeeffa",
   "metadata": {},
   "outputs": [],
   "source": [
    "x_i = 0\n",
    "x_f = 1\n",
    "n = 1000\n",
    "\n",
    "def func(x):\n",
    "    return x**2 * np.exp(x-1)\n",
    "\n",
    "def trapezoidal(func,x_i,x_f,n):\n",
    "    h = (x_f - x_i)/n\n",
    "    S1 = 0\n",
    "    while(x_i<x_f):\n",
    "        S1 += (h/2)*(func(x_i) + func(x_i + h))\n",
    "        x_i += h\n",
    "        \n",
    "    return S1\n",
    "\n",
    "def Simpson(func,x_i,x_f,n):\n",
    "    h = (x_f - x_i)/n\n",
    "    S2 = 0\n",
    "    while(x_i<x_f):\n",
    "        S2 += (h/3)*(func(x_i) + 4*func(x_i + h) + func(x_i + 2*h))\n",
    "        x_i += 2*h\n",
    "    return S2"
   ]
  },
  {
   "cell_type": "code",
   "execution_count": 3,
   "id": "890c48c3",
   "metadata": {},
   "outputs": [
    {
     "name": "stdout",
     "output_type": "stream",
     "text": [
      "Trapezoidal Method : 0.2642413676571007\n",
      "Simpson Method : 0.26424111765717595\n",
      "0.26424111765711533\n"
     ]
    }
   ],
   "source": [
    "print(\"Trapezoidal Method :\" , trapezoidal(func,x_i,x_f,n))\n",
    "print(\"Simpson Method :\" , Simpson(func,x_i,x_f,n))\n",
    "print(1 - 2/np.e)"
   ]
  },
  {
   "cell_type": "markdown",
   "id": "22a8d3b7",
   "metadata": {},
   "source": [
    "## Question 2"
   ]
  },
  {
   "cell_type": "code",
   "execution_count": 4,
   "id": "d58807df",
   "metadata": {},
   "outputs": [
    {
     "name": "stdout",
     "output_type": "stream",
     "text": [
      "0.564189583547757\n"
     ]
    }
   ],
   "source": [
    "x_i = -10\n",
    "x_f = 10\n",
    "n = 2000\n",
    "\n",
    "\n",
    "def func(x):\n",
    "    return np.exp(- x**2)\n",
    "\n",
    "A = 1/Simpson(func,x_i,x_f,n)\n",
    "\n",
    "print(A)"
   ]
  },
  {
   "cell_type": "code",
   "execution_count": 5,
   "id": "97963130",
   "metadata": {},
   "outputs": [],
   "source": [
    "def mean(x):\n",
    "    return x*A*np.exp(- x**2)\n",
    "\n",
    "def mean2(x):\n",
    "    return x**2 * A*np.exp(- x**2)\n",
    "\n",
    "mean = Simpson(mean,x_i,x_f,n)\n",
    "mean2 = Simpson(mean2,x_i,x_f,n)"
   ]
  },
  {
   "cell_type": "code",
   "execution_count": 6,
   "id": "a373c7c6",
   "metadata": {},
   "outputs": [
    {
     "name": "stdout",
     "output_type": "stream",
     "text": [
      "-8.001120878390118e-17\n",
      "0.5000000000000003\n"
     ]
    }
   ],
   "source": [
    "print(mean)\n",
    "print(mean2)"
   ]
  },
  {
   "cell_type": "markdown",
   "id": "2efb9a05",
   "metadata": {},
   "source": [
    "## Question 3"
   ]
  },
  {
   "cell_type": "code",
   "execution_count": 12,
   "id": "94986556",
   "metadata": {},
   "outputs": [
    {
     "name": "stdout",
     "output_type": "stream",
     "text": [
      "63.72743548824673\n"
     ]
    }
   ],
   "source": [
    "def func(x,y):\n",
    "    return y**2 - x\n",
    "\n",
    "n = 1000\n",
    "h = (1-0)/n\n",
    "k = (6-0)/n\n",
    "\n",
    "x = np.linspace(0,1,1000)\n",
    "y = np.linspace(0,6,1000)\n",
    "\n",
    "X,Y = np.meshgrid(x,y)\n",
    "z = func(X,Y)\n",
    "\n",
    "def index(x,initial,final,n):\n",
    "    h = (final-initial)/n\n",
    "    i = np.abs((x-initial)/h)\n",
    "    return int(i)\n",
    "\n",
    "S = 0\n",
    "\n",
    "for i in range (0,999):\n",
    "    for j in range (index((h*i-2)**2,0,6,1000),999):\n",
    "        S = S + (z[j][i] + z[j+1][i])/2*h*k\n",
    "        \n",
    "print(S)"
   ]
  },
  {
   "cell_type": "code",
   "execution_count": null,
   "id": "88104417",
   "metadata": {},
   "outputs": [],
   "source": []
  }
 ],
 "metadata": {
  "kernelspec": {
   "display_name": "Python 3 (ipykernel)",
   "language": "python",
   "name": "python3"
  },
  "language_info": {
   "codemirror_mode": {
    "name": "ipython",
    "version": 3
   },
   "file_extension": ".py",
   "mimetype": "text/x-python",
   "name": "python",
   "nbconvert_exporter": "python",
   "pygments_lexer": "ipython3",
   "version": "3.9.7"
  }
 },
 "nbformat": 4,
 "nbformat_minor": 5
}
