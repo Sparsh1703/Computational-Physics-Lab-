{
 "cells": [
  {
   "cell_type": "code",
   "execution_count": 1,
   "id": "b9f9ad1d",
   "metadata": {},
   "outputs": [],
   "source": [
    "import numpy as np\n",
    "import matplotlib.pyplot as plt"
   ]
  },
  {
   "cell_type": "markdown",
   "id": "32f59390",
   "metadata": {},
   "source": [
    "## Question 1"
   ]
  },
  {
   "cell_type": "code",
   "execution_count": 2,
   "id": "5792af34",
   "metadata": {},
   "outputs": [],
   "source": [
    "def func(x):\n",
    "    return x**3 - 5*x + 3\n",
    "\n",
    "def bisection(a,b):\n",
    "    if(func(a)*func(b) > 0):\n",
    "        print('You have taken wrong assumptions')\n",
    "        \n",
    "    c = a\n",
    "    while(b-a >= 0.01):\n",
    "        c = (a+b)/2\n",
    "        \n",
    "        if (func(c) == 0):\n",
    "            break;\n",
    "            \n",
    "        if (func(c)*func(a) < 0):\n",
    "            b = c\n",
    "        else:\n",
    "            a = c\n",
    "            \n",
    "    return c"
   ]
  },
  {
   "cell_type": "code",
   "execution_count": 3,
   "id": "6212bad3",
   "metadata": {},
   "outputs": [],
   "source": [
    "root = bisection(1,2)"
   ]
  },
  {
   "cell_type": "code",
   "execution_count": 4,
   "id": "270676eb",
   "metadata": {},
   "outputs": [
    {
     "name": "stdout",
     "output_type": "stream",
     "text": [
      "1.8359375\n"
     ]
    }
   ],
   "source": [
    "print(root)"
   ]
  },
  {
   "cell_type": "code",
   "execution_count": 5,
   "id": "71a3896f",
   "metadata": {},
   "outputs": [],
   "source": [
    "root2 = bisection(-3,3)"
   ]
  },
  {
   "cell_type": "code",
   "execution_count": 6,
   "id": "3dcd777c",
   "metadata": {},
   "outputs": [
    {
     "name": "stdout",
     "output_type": "stream",
     "text": [
      "-2.490234375\n"
     ]
    }
   ],
   "source": [
    "print(root2)"
   ]
  },
  {
   "cell_type": "markdown",
   "id": "498354ba",
   "metadata": {},
   "source": [
    "## Question 2"
   ]
  },
  {
   "cell_type": "code",
   "execution_count": 7,
   "id": "2ae51c47",
   "metadata": {},
   "outputs": [],
   "source": [
    "def func(x):\n",
    "    return x**3 - x - 4\n",
    "\n",
    "def func_deriv(x):\n",
    "    return 3 * x**2 - 1\n",
    "\n",
    "def Newton_Raphson(x):\n",
    "    \n",
    "    h = func(x)/func_deriv(x)\n",
    "    while (abs(h) >= 0.001):\n",
    "        \n",
    "        h = func(x)/func_deriv(x)\n",
    "        x = x-h\n",
    "    return x"
   ]
  },
  {
   "cell_type": "code",
   "execution_count": 8,
   "id": "d6fb3278",
   "metadata": {},
   "outputs": [],
   "source": [
    "root = Newton_Raphson(2)"
   ]
  },
  {
   "cell_type": "code",
   "execution_count": 9,
   "id": "8f3cee30",
   "metadata": {},
   "outputs": [
    {
     "name": "stdout",
     "output_type": "stream",
     "text": [
      "1.7963219558624561\n"
     ]
    }
   ],
   "source": [
    "print(root)"
   ]
  },
  {
   "cell_type": "markdown",
   "id": "1b7ba5f9",
   "metadata": {},
   "source": [
    "## Question 3"
   ]
  },
  {
   "cell_type": "code",
   "execution_count": 10,
   "id": "2cd9f7f7",
   "metadata": {},
   "outputs": [],
   "source": [
    "def func(x):\n",
    "    return 2 * x**3 - 2 * x - 5\n",
    "\n",
    "def func_deriv(x):\n",
    "    return 6 * x**2 - 2\n",
    "\n",
    "def Newton_Raphson(x):\n",
    "    \n",
    "    h = func(x)/func_deriv(x)\n",
    "    while (abs(h) >= 0.001):\n",
    "        \n",
    "        h = func(x)/func_deriv(x)\n",
    "        x = x-h\n",
    "    return x"
   ]
  },
  {
   "cell_type": "code",
   "execution_count": 11,
   "id": "42100929",
   "metadata": {},
   "outputs": [],
   "source": [
    "root = Newton_Raphson(1.5)"
   ]
  },
  {
   "cell_type": "code",
   "execution_count": 12,
   "id": "dbded2fe",
   "metadata": {},
   "outputs": [
    {
     "name": "stdout",
     "output_type": "stream",
     "text": [
      "1.6005985465000654\n"
     ]
    }
   ],
   "source": [
    "print(root)"
   ]
  },
  {
   "cell_type": "code",
   "execution_count": null,
   "id": "60d627d9",
   "metadata": {},
   "outputs": [],
   "source": [
    "def secant(x1,x2,E):\n",
    "    n = 0, xm = 0, x0 = 0, c = 0;"
   ]
  },
  {
   "cell_type": "code",
   "execution_count": 3,
   "id": "7bdec148",
   "metadata": {},
   "outputs": [
    {
     "name": "stdout",
     "output_type": "stream",
     "text": [
      "Root of the given equation = 1.600597\n",
      "No. of iterations =  5\n"
     ]
    }
   ],
   "source": [
    "def f(x):\n",
    "    return 2 * x**3 - 2 * x - 5\n",
    "\n",
    "def secant(x1, x2, E):\n",
    "\tn = 0; xm = 0; x0 = 0; c = 0; \n",
    "\tif (f(x1) * f(x2) < 0):\n",
    "\t\twhile True: \n",
    "\t\t\t\n",
    "\t\t\t# calculate the intermediate value \n",
    "\t\t\tx0 = ((x1 * f(x2) - x2 * f(x1)) /\n",
    "\t\t\t\t\t\t\t(f(x2) - f(x1))); \n",
    "\n",
    "\t\t\t# check if x0 is root of \n",
    "\t\t\t# equation or not \n",
    "\t\t\tc = f(x1) * f(x0); \n",
    "\n",
    "\t\t\t# update the value of interval \n",
    "\t\t\tx1 = x2; \n",
    "\t\t\tx2 = x0; \n",
    "\n",
    "\t\t\t# update number of iteration \n",
    "\t\t\tn += 1; \n",
    "\n",
    "\t\t\t# if x0 is the root of equation \n",
    "\t\t\t# then break the loop \n",
    "\t\t\tif (c == 0): \n",
    "\t\t\t\tbreak; \n",
    "\t\t\txm = ((x1 * f(x2) - x2 * f(x1)) /\n",
    "\t\t\t\t\t\t\t(f(x2) - f(x1)));\n",
    "\t\t\t\n",
    "\t\t\tif(abs(xm - x0) < E):\n",
    "\t\t\t\tbreak;\n",
    "\t\t\n",
    "\t\tprint(\"Root of the given equation =\", \n",
    "\t\t\t\t\t\t\tround(x0, 6)); \n",
    "\t\tprint(\"No. of iterations = \", n); \n",
    "\t\t\n",
    "\telse:\n",
    "\t\tprint(\"Can not find a root in the given interval\"); \n",
    "\n",
    "x1 = 1; \n",
    "x2 = 2; \n",
    "E = 0.0001; \n",
    "secant(x1, x2, E); "
   ]
  },
  {
   "cell_type": "code",
   "execution_count": null,
   "id": "6854f3fd",
   "metadata": {},
   "outputs": [],
   "source": []
  }
 ],
 "metadata": {
  "kernelspec": {
   "display_name": "Python 3 (ipykernel)",
   "language": "python",
   "name": "python3"
  },
  "language_info": {
   "codemirror_mode": {
    "name": "ipython",
    "version": 3
   },
   "file_extension": ".py",
   "mimetype": "text/x-python",
   "name": "python",
   "nbconvert_exporter": "python",
   "pygments_lexer": "ipython3",
   "version": "3.9.7"
  }
 },
 "nbformat": 4,
 "nbformat_minor": 5
}
