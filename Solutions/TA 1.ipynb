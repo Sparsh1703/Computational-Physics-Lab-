{
 "cells": [
  {
   "cell_type": "code",
   "execution_count": 1,
   "id": "6e274214",
   "metadata": {},
   "outputs": [],
   "source": [
    "import numpy as np\n",
    "import matplotlib.pyplot as plt"
   ]
  },
  {
   "cell_type": "markdown",
   "id": "1e4d684e",
   "metadata": {},
   "source": [
    "## Question 1"
   ]
  },
  {
   "cell_type": "code",
   "execution_count": 2,
   "id": "07212fb3",
   "metadata": {},
   "outputs": [
    {
     "name": "stdout",
     "output_type": "stream",
     "text": [
      "Enter the value of a \n",
      "4\n",
      "Enter the value of b \n",
      "3\n",
      "Enter the value of c \n",
      "5\n",
      "The second order polynomial has no real roots\n"
     ]
    }
   ],
   "source": [
    "a = int(input(\"Enter the value of a \\n\"))\n",
    "b = int(input(\"Enter the value of b \\n\"))\n",
    "c = int(input(\"Enter the value of c \\n\"))\n",
    "\n",
    "D = b**2 - 4*a*c\n",
    "\n",
    "if (D>0):\n",
    "    x_1 = (-b + np.sqrt(D))/ (2*a)\n",
    "    x_2 = (-b - np.sqrt(D))/ (2*a)\n",
    "    print([x_1, x_2])\n",
    "    \n",
    "elif (D==0):\n",
    "    x_1 = -b / (2*a)\n",
    "    x_2 = x_1\n",
    "    print([x_1,x_2])\n",
    "    \n",
    "else:\n",
    "    print(\"The second order polynomial has no real roots\")"
   ]
  },
  {
   "cell_type": "markdown",
   "id": "af8b1f75",
   "metadata": {},
   "source": [
    "## Question 2"
   ]
  },
  {
   "cell_type": "code",
   "execution_count": 3,
   "id": "c22c3af7",
   "metadata": {},
   "outputs": [
    {
     "name": "stdout",
     "output_type": "stream",
     "text": [
      "Enter the value of a \n",
      "4\n",
      "Enter the value of b \n",
      "4\n",
      "Enter the value of c \n",
      "0\n",
      "Enter the value of d \n",
      "4\n",
      "[[ 0.25 -0.25]\n",
      " [ 0.    0.25]]\n"
     ]
    }
   ],
   "source": [
    "a = int(input(\"Enter the value of a \\n\"))\n",
    "b = int(input(\"Enter the value of b \\n\"))\n",
    "c = int(input(\"Enter the value of c \\n\"))\n",
    "d = int(input(\"Enter the value of d \\n\"))\n",
    "\n",
    "A = np.array([[a,b],\n",
    "              [c,d]])\n",
    "\n",
    "def inverse(A):\n",
    "    if(a*d - b*c == 0):\n",
    "        A_inv = 'Inverse does not exist'\n",
    "        \n",
    "    else:\n",
    "        A_inv = np.array([[d, -b],\n",
    "                           [-c, a]])\n",
    "        A_inv = A_inv / int((a*d - b*c))\n",
    "        \n",
    "    return A_inv\n",
    "print(inverse(A))"
   ]
  },
  {
   "cell_type": "markdown",
   "id": "69cf22f1",
   "metadata": {},
   "source": [
    "## Question 3"
   ]
  },
  {
   "cell_type": "code",
   "execution_count": 4,
   "id": "dddf24bb",
   "metadata": {},
   "outputs": [
    {
     "name": "stdout",
     "output_type": "stream",
     "text": [
      "Enter the value of a \n",
      "2\n",
      "Enter the value of b \n",
      "3\n",
      "Enter the value of p \n",
      "4\n",
      "Enter the value of q \n",
      "8\n",
      "Enter the value of c \n",
      "5\n",
      "Enter the value of r \n",
      "12\n",
      "[1. 1.]\n"
     ]
    }
   ],
   "source": [
    "a = int(input(\"Enter the value of a \\n\"))\n",
    "b = int(input(\"Enter the value of b \\n\"))\n",
    "p = int(input(\"Enter the value of p \\n\"))\n",
    "q = int(input(\"Enter the value of q \\n\"))\n",
    "c = int(input(\"Enter the value of c \\n\"))\n",
    "r = int(input(\"Enter the value of r \\n\"))\n",
    "\n",
    "A = np.array([[a,b],[p,q]])\n",
    "B = np.array([c,r])\n",
    "\n",
    "def inverse(A):\n",
    "    if(a*q - b*p == 0):\n",
    "        A_inv = 'Inverse does not exist'\n",
    "        \n",
    "    else:\n",
    "        A_inv = np.array([[q, -b],\n",
    "                           [-p, a]])\n",
    "        A_inv = A_inv / int(a*q - b*p)\n",
    "        \n",
    "    return A_inv\n",
    "\n",
    "X = np.matmul(inverse(A),B)\n",
    "print(X)"
   ]
  },
  {
   "cell_type": "markdown",
   "id": "96fd98b6",
   "metadata": {},
   "source": [
    "## Question 4"
   ]
  },
  {
   "cell_type": "code",
   "execution_count": 5,
   "id": "609cbb83",
   "metadata": {},
   "outputs": [],
   "source": [
    "h1 = np.pi / 20\n",
    "x1 = np.arange(0,np.pi + h1, h1)\n",
    "\n",
    "h2 = np.pi / 3\n",
    "x2 = np.arange(0,np.pi + h2, h2)\n",
    "\n",
    "def factorial(n):\n",
    "    if (n==0 or n==1):\n",
    "        return 1\n",
    "    else:\n",
    "        return n*factorial(n-1)\n",
    "N = 10\n",
    "S1 = 0\n",
    "S2 = 0\n",
    "for i in range(N):\n",
    "    Sin_X1 = ((-1)**i * x1**(2*i + 1))/factorial(2*i + 1) + S1\n",
    "    S1 = Sin_X1\n",
    "    \n",
    "    Sin_X2 = ((-1)**i * x2**(2*i + 1))/factorial(2*i + 1) + S2\n",
    "    S2 = Sin_X2"
   ]
  },
  {
   "cell_type": "code",
   "execution_count": 6,
   "id": "d59d0dc9",
   "metadata": {},
   "outputs": [
    {
     "data": {
      "text/plain": [
       "[<matplotlib.lines.Line2D at 0x27d0c97e5e0>]"
      ]
     },
     "execution_count": 6,
     "metadata": {},
     "output_type": "execute_result"
    },
    {
     "data": {
      "image/png": "[encoded data removed]",
      "text/plain": [
       "<Figure size 432x288 with 1 Axes>"
      ]
     },
     "metadata": {
      "needs_background": "light"
     },
     "output_type": "display_data"
    }
   ],
   "source": [
    "plt.plot(x1,Sin_X1)\n",
    "plt.plot(x2,Sin_X2)"
   ]
  }
 ],
 "metadata": {
  "kernelspec": {
   "display_name": "Python 3 (ipykernel)",
   "language": "python",
   "name": "python3"
  },
  "language_info": {
   "codemirror_mode": {
    "name": "ipython",
    "version": 3
   },
   "file_extension": ".py",
   "mimetype": "text/x-python",
   "name": "python",
   "nbconvert_exporter": "python",
   "pygments_lexer": "ipython3",
   "version": "3.9.7"
  }
 },
 "nbformat": 4,
 "nbformat_minor": 5
}
